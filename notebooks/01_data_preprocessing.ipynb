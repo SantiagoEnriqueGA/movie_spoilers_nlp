{
 "cells": [
  {
   "cell_type": "markdown",
   "metadata": {},
   "source": [
    "# 01_data_preprocessing.ipynb"
   ]
  },
  {
   "cell_type": "code",
   "execution_count": null,
   "metadata": {},
   "outputs": [],
   "source": [
    "import pandas as pd\n",
    "import os"
   ]
  },
  {
   "cell_type": "code",
   "execution_count": null,
   "metadata": {},
   "outputs": [],
   "source": [
    "# Load data\n",
    "reviews_df = pd.read_json('../data/raw/IMDB_reviews.json', lines=True).drop_duplicates(\"review_text\").sample(frac=1)\n",
    "movies_df = pd.read_json('../data/raw/IMDB_movie_details.json', lines=True)"
   ]
  },
  {
   "cell_type": "code",
   "execution_count": null,
   "metadata": {},
   "outputs": [],
   "source": [
    "# Preprocess reviews data\n",
    "reviews_df['review_date'] = pd.to_datetime(reviews_df['review_date'])\n",
    "reviews_df['user_id'] = reviews_df['user_id'].astype('category').cat.codes\n",
    "\n",
    "# Preprocess movies data\n",
    "movies_df['release_date'] = pd.to_datetime(movies_df['release_date'], format='mixed')"
   ]
  },
  {
   "cell_type": "code",
   "execution_count": null,
   "metadata": {},
   "outputs": [],
   "source": [
    "# Display shapes and first few rows for verification\n",
    "print(\"Reviews DataFrame Shape:\", reviews_df.shape)\n",
    "print(reviews_df.head())\n",
    "print(\"Movies DataFrame Shape:\", movies_df.shape)\n",
    "print(movies_df.head())"
   ]
  },
  {
   "cell_type": "code",
   "execution_count": null,
   "metadata": {},
   "outputs": [],
   "source": [
    "# Save processed data\n",
    "os.makedirs('../data/processed', exist_ok=True)\n",
    "reviews_df.to_csv('../data/processed/reviews.csv', index=False)\n",
    "movies_df.to_csv('../data/processed/movie_details.csv', index=False)"
   ]
  }
 ],
 "metadata": {
  "kernelspec": {
   "display_name": "base",
   "language": "python",
   "name": "python3"
  },
  "language_info": {
   "name": "python",
   "version": "3.11.4"
  }
 },
 "nbformat": 4,
 "nbformat_minor": 2
}
